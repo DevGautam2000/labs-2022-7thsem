{
 "cells": [
  {
   "cell_type": "code",
   "execution_count": 7,
   "id": "d63db207",
   "metadata": {},
   "outputs": [
    {
     "name": "stdout",
     "output_type": "stream",
     "text": [
      "KNN Accuracy: \n",
      "5: 94.73684210526315\n",
      "7: 97.36842105263158\n",
      "9: 97.36842105263158\n",
      "\n",
      "KNN Predictions: \n",
      "y_pred_knn5=array([1, 2, 2, 0, 2, 1, 0, 2, 0, 1, 1, 2, 2, 2, 0, 0, 2, 2, 0, 0, 1, 2,\n",
      "       0, 2, 1, 2, 1, 1, 1, 2, 0, 1, 1, 0, 1, 0, 0, 2])\n",
      "\n",
      "y_pred_knn7=array([1, 2, 2, 0, 2, 1, 0, 2, 0, 1, 1, 2, 2, 2, 0, 0, 2, 2, 0, 0, 1, 2,\n",
      "       0, 1, 1, 2, 1, 1, 1, 2, 0, 1, 1, 0, 1, 0, 0, 2])\n",
      "\n",
      "y_pred_knn9=array([1, 2, 2, 0, 2, 1, 0, 2, 0, 1, 1, 2, 2, 2, 0, 0, 2, 2, 0, 0, 1, 2,\n",
      "       0, 1, 1, 2, 1, 1, 1, 2, 0, 1, 1, 0, 1, 0, 0, 2])\n",
      "\n"
     ]
    }
   ],
   "source": [
    "import pandas as pd\n",
    "from sklearn.svm import SVC\n",
    "from sklearn.neighbors import KNeighborsClassifier\n",
    "from sklearn.metrics import accuracy_score\n",
    "from sklearn.model_selection import train_test_split\n",
    "from sklearn.datasets import load_iris\n",
    "from sklearn.metrics import confusion_matrix\n",
    "\n",
    "iris = load_iris()\n",
    "X = iris.data\n",
    "y = iris.target\n",
    "\n",
    "X_train, X_test, y_train, y_test = train_test_split(X, y,\n",
    "test_size=0.25, random_state=5)\n",
    "\n",
    "# Train the model\n",
    "knn5 = KNeighborsClassifier(n_neighbors=5)\n",
    "knn7 = KNeighborsClassifier(n_neighbors=7)\n",
    "knn9 = KNeighborsClassifier(n_neighbors=9)\n",
    "\n",
    "knn5.fit(X_train, y_train)\n",
    "knn7.fit(X_train, y_train)\n",
    "knn9.fit(X_train, y_train)\n",
    "\n",
    "# Predict the test set results\n",
    "y_pred_knn5 = knn5.predict(X_test)\n",
    "y_pred_knn7 = knn7.predict(X_test)\n",
    "y_pred_knn9 = knn9.predict(X_test)\n",
    "\n",
    "# Evaluate the model\n",
    "y_acc_knn5 = accuracy_score(y_test, y_pred_knn5)\n",
    "y_acc_knn7 = accuracy_score(y_test, y_pred_knn7)\n",
    "y_acc_knn9 = accuracy_score(y_test, y_pred_knn9)\n",
    "\n",
    "#cm=confusion_matrix(y_test,y_pred_knn)\n",
    "# print results\n",
    "print(\"KNN Accuracy: \")\n",
    "print(f\"5: { y_acc_knn5*100}\")\n",
    "print(f\"7: { y_acc_knn7*100}\")\n",
    "print(f\"9: { y_acc_knn9*100}\")\n",
    "#print(\"Confusion Matrix:  \", cm)\n",
    "\n",
    "print(\"\\nKNN Predictions: \")\n",
    "print(f\"{y_pred_knn5=}\\n\")\n",
    "print(f\"{y_pred_knn7=}\\n\")\n",
    "print(f\"{y_pred_knn9=}\\n\")"
   ]
  }
 ],
 "metadata": {
  "kernelspec": {
   "display_name": "Python 3 (ipykernel)",
   "language": "python",
   "name": "python3"
  },
  "language_info": {
   "codemirror_mode": {
    "name": "ipython",
    "version": 3
   },
   "file_extension": ".py",
   "mimetype": "text/x-python",
   "name": "python",
   "nbconvert_exporter": "python",
   "pygments_lexer": "ipython3",
   "version": "3.9.7"
  }
 },
 "nbformat": 4,
 "nbformat_minor": 5
}
