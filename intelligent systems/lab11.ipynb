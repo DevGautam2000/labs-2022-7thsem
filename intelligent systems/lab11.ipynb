{
 "cells": [
  {
   "cell_type": "code",
   "execution_count": 2,
   "id": "97fa8971",
   "metadata": {},
   "outputs": [
    {
     "name": "stdout",
     "output_type": "stream",
     "text": [
      "RBF Accuracy: 0.9711538461538461\n",
      "Linear Accuracy: 0.9903846153846154\n"
     ]
    }
   ],
   "source": [
    "# Import necessary libraries\n",
    "import pandas as pd\n",
    "import numpy as np\n",
    "\n",
    "dataset = pd.read_csv(\"penguins.csv\")\n",
    "x = dataset.drop('rowid', axis=1)\n",
    "x = x.drop('species', axis=1)\n",
    "y = dataset['species']\n",
    "\n",
    "# Import Lable Encoder\n",
    "from sklearn import preprocessing\n",
    "# Creating labelEncoder\n",
    "le = preprocessing.LabelEncoder()\n",
    "# Converting String labels into numbers\n",
    "bill_length_mm_encoded = le.fit_transform(dataset['bill_length_mm'])\n",
    "bill_depth_mm_encoded = le.fit_transform(dataset['bill_depth_mm'])\n",
    "flipper_length_mm_encoded = le.fit_transform(dataset['flipper_length_mm'])\n",
    "body_mass_g_encoded = le.fit_transform(dataset['body_mass_g'])\n",
    "sex_encoded = le.fit_transform(dataset['sex'])\n",
    "island_encoded = le.fit_transform(dataset['island'])\n",
    "year_encoded = le.fit_transform(dataset['year'])\n",
    "\n",
    "label = le.fit_transform(dataset['species'])\n",
    "\n",
    "# Combining weather and temp into single list of tuples\n",
    "features = list(zip(bill_length_mm_encoded, bill_depth_mm_encoded, flipper_length_mm_encoded, body_mass_g_encoded, \n",
    "                    sex_encoded, island_encoded, year_encoded))\n",
    "\n",
    "# Split the dataset into training and test samples with a ratio of 80% and 20%\n",
    "from sklearn.model_selection import train_test_split\n",
    "X_train, X_test, y_train, y_test = train_test_split(features, label, test_size = 0.3, random_state = 1)\n",
    "\n",
    "# Initialize the Support Vector Machine(SVM) and fitting the training data rbf\n",
    "from sklearn.svm import SVC\n",
    "model = SVC(kernel = 'rbf', random_state = 1)\n",
    "model.fit(X_train, y_train)\n",
    "y_pred = model.predict(X_test)\n",
    "\n",
    "# Check the accuracy of our model\n",
    "from sklearn import metrics\n",
    "print(\"RBF Accuracy:\",metrics.accuracy_score(y_test,y_pred))\n",
    "\n",
    "\n",
    "# Initialize the Support Vector Machine(SVM) and fitting the training data linear\n",
    "from sklearn.svm import SVC\n",
    "model = SVC(kernel = 'linear', random_state = 1)\n",
    "model.fit(X_train, y_train)\n",
    "y_pred = model.predict(X_test)\n",
    "\n",
    "# Check the accuracy of our model\n",
    "from sklearn import metrics\n",
    "print(\"Linear Accuracy:\",metrics.accuracy_score(y_test,y_pred))"
   ]
  }
 ],
 "metadata": {
  "kernelspec": {
   "display_name": "Python 3 (ipykernel)",
   "language": "python",
   "name": "python3"
  },
  "language_info": {
   "codemirror_mode": {
    "name": "ipython",
    "version": 3
   },
   "file_extension": ".py",
   "mimetype": "text/x-python",
   "name": "python",
   "nbconvert_exporter": "python",
   "pygments_lexer": "ipython3",
   "version": "3.9.7"
  }
 },
 "nbformat": 4,
 "nbformat_minor": 5
}
