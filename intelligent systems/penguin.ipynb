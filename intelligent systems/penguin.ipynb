{
 "cells": [
  {
   "cell_type": "code",
   "execution_count": 7,
   "id": "70f9664b",
   "metadata": {},
   "outputs": [],
   "source": [
    "import pandas as pd\n",
    "from sklearn import datasets\n",
    "\n",
    "dataset = pd.read_csv(\"penguins.csv\")\n",
    "x = dataset.drop('rowid', axis=1)\n",
    "x = x.drop('species', axis=1)\n",
    "y = dataset['species']\n"
   ]
  },
  {
   "cell_type": "code",
   "execution_count": 8,
   "id": "841e0da4",
   "metadata": {},
   "outputs": [],
   "source": [
    "# import Lable Encoder\n",
    "from sklearn import preprocessing\n",
    "\n",
    "# Creating labelEncoder\n",
    "le = preprocessing.LabelEncoder()\n",
    "\n",
    "# Converting String labels into numbers\n",
    "bill_length_mm_encoded = le.fit_transform(dataset['bill_length_mm'])\n",
    "bill_depth_mm_encoded = le.fit_transform(dataset['bill_depth_mm'])\n",
    "flipper_length_mm_encoded = le.fit_transform(dataset['flipper_length_mm'])\n",
    "body_mass_g_encoded = le.fit_transform(dataset['body_mass_g'])\n",
    "sex_encoded = le.fit_transform(dataset['sex'])\n",
    "island_encoded = le.fit_transform(dataset['island'])\n",
    "year_encoded = le.fit_transform(dataset['year'])\n",
    "\n",
    "label = le.fit_transform(dataset['species'])"
   ]
  },
  {
   "cell_type": "code",
   "execution_count": 9,
   "id": "3ea78d18",
   "metadata": {},
   "outputs": [],
   "source": [
    "\n",
    "# Combining weather and temp into single list of tuples\n",
    "features = list(zip(bill_length_mm_encoded, bill_depth_mm_encoded, flipper_length_mm_encoded, body_mass_g_encoded, \n",
    "                    sex_encoded, island_encoded, year_encoded))\n",
    "\n",
    "\n",
    "from sklearn.model_selection import train_test_split\n",
    "X_train, X_test, y_train, y_test = train_test_split(features, label, test_size = 0.3, random_state = 1)\n",
    "\n",
    "\n",
    "from sklearn.neighbors import KNeighborsClassifier\n",
    "knn = KNeighborsClassifier(n_neighbors = 5)\n",
    "knn.fit(X_train, y_train)\n",
    "y_pred = knn.predict(X_test)"
   ]
  },
  {
   "cell_type": "code",
   "execution_count": 10,
   "id": "ba755f43",
   "metadata": {},
   "outputs": [
    {
     "name": "stdout",
     "output_type": "stream",
     "text": [
      "Accuracy: 0.9711538461538461\n",
      "Accuracy: 0.9807692307692307\n",
      "Accuracy: 0.9711538461538461\n"
     ]
    }
   ],
   "source": [
    "from sklearn import metrics\n",
    "print(\"Accuracy:\",metrics.accuracy_score(y_test,y_pred))\n",
    "\n",
    "\n",
    "knn = KNeighborsClassifier(n_neighbors = 7)\n",
    "knn.fit(X_train, y_train)\n",
    "y_pred = knn.predict(X_test)\n",
    "\n",
    "print(\"Accuracy:\",metrics.accuracy_score(y_test,y_pred))\n",
    "\n",
    "\n",
    "knn = KNeighborsClassifier(n_neighbors = 9)\n",
    "knn.fit(X_train, y_train)\n",
    "y_pred = knn.predict(X_test)\n",
    "\n",
    "\n",
    "print(\"Accuracy:\",metrics.accuracy_score(y_test,y_pred))"
   ]
  }
 ],
 "metadata": {
  "kernelspec": {
   "display_name": "Python 3 (ipykernel)",
   "language": "python",
   "name": "python3"
  },
  "language_info": {
   "codemirror_mode": {
    "name": "ipython",
    "version": 3
   },
   "file_extension": ".py",
   "mimetype": "text/x-python",
   "name": "python",
   "nbconvert_exporter": "python",
   "pygments_lexer": "ipython3",
   "version": "3.9.10"
  }
 },
 "nbformat": 4,
 "nbformat_minor": 5
}
