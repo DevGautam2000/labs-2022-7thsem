{
 "cells": [
  {
   "cell_type": "code",
   "execution_count": 4,
   "id": "cee6400b",
   "metadata": {},
   "outputs": [
    {
     "name": "stdout",
     "output_type": "stream",
     "text": [
      "[[103901.8969696 ]\n",
      " [132763.05993126]\n",
      " [133567.90370044]\n",
      " [ 72911.78976736]\n",
      " [179627.92567224]\n",
      " [115166.64864795]\n",
      " [ 67113.5769057 ]\n",
      " [ 98154.80686776]\n",
      " [114756.11555221]\n",
      " [169064.01408795]]\n",
      "r2_score: 0.939395591782057\n",
      "Mean Square Error: 77506468.1688542\n",
      "Root Mean Square Error: 8803.775790469348\n"
     ]
    }
   ],
   "source": [
    "import pandas as pd\n",
    "import numpy as np\n",
    "import matplotlib.pyplot as plt\n",
    "from sklearn.model_selection import train_test_split\n",
    "from sklearn import linear_model\n",
    "from sklearn.metrics import r2_score\n",
    "from sklearn.metrics import mean_squared_error\n",
    "\n",
    "\n",
    "df=pd.read_csv('50_Startups.csv')\n",
    "x=df[[\"R&D Spend\",\"Administration\",\"Marketing Spend\"]]\n",
    "y=df[[\"Profit\"]]\n",
    "\n",
    "x_train,x_test,y_train,y_test = train_test_split(x,y,test_size=0.2,random_state=0)\n",
    "\n",
    "lr = linear_model.LinearRegression()\n",
    "lr.fit(x_train,y_train)\n",
    "y_pred = lr.predict(x_test)\n",
    "\n",
    "print(y_pred)\n",
    "\n",
    "\n",
    "score = r2_score(y_test,y_pred)\n",
    "mse = mean_squared_error(y_test,y_pred)\n",
    "sqrt = np.sqrt(mse)\n",
    "\n",
    "print(f\"r2_score: {score}\")\n",
    "print(f\"Mean Square Error: {mse}\")\n",
    "print(f\"Root Mean Square Error: {sqrt}\")\n"
   ]
  }
 ],
 "metadata": {
  "kernelspec": {
   "display_name": "Python 3 (ipykernel)",
   "language": "python",
   "name": "python3"
  },
  "language_info": {
   "codemirror_mode": {
    "name": "ipython",
    "version": 3
   },
   "file_extension": ".py",
   "mimetype": "text/x-python",
   "name": "python",
   "nbconvert_exporter": "python",
   "pygments_lexer": "ipython3",
   "version": "3.9.10"
  }
 },
 "nbformat": 4,
 "nbformat_minor": 5
}
