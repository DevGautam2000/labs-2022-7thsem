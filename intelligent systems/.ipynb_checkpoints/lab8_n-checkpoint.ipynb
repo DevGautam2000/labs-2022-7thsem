{
 "cells": [
  {
   "cell_type": "code",
   "execution_count": 18,
   "id": "f94117bb",
   "metadata": {},
   "outputs": [],
   "source": [
    "import pandas as pd\n",
    "import numpy as np\n",
    "import matplotlib.pyplot as plt\n",
    "\n",
    "df_bill = pd.read_csv('bill_authentication.csv')"
   ]
  },
  {
   "cell_type": "code",
   "execution_count": 7,
   "id": "bbf448e0",
   "metadata": {},
   "outputs": [],
   "source": [
    "x = df_bill.drop('Class',axis=1)\n",
    "y = df_bill['Class']"
   ]
  },
  {
   "cell_type": "code",
   "execution_count": 9,
   "id": "5d87f141",
   "metadata": {},
   "outputs": [],
   "source": [
    "from sklearn.model_selection import train_test_split as tts\n",
    "\n",
    "x_train,x_test,y_train,y_test =  tts(x, y, test_size = 0.25, random_state=0) \n"
   ]
  },
  {
   "cell_type": "code",
   "execution_count": 17,
   "id": "01c2fed0",
   "metadata": {},
   "outputs": [
    {
     "name": "stdout",
     "output_type": "stream",
     "text": [
      "Acurracy Scores:\n",
      "knc_acc=0.8279883381924198\n",
      "dt_acc_ent=0.9795918367346939\n",
      "dt_acc_gini=0.9883381924198251\n",
      "svm_acc=0.9854227405247813\n",
      "nb_acc=0.8279883381924198\n"
     ]
    },
    {
     "data": {
      "image/png": "[encoded data removed]",
      "text/plain": [
       "<Figure size 432x288 with 1 Axes>"
      ]
     },
     "metadata": {
      "needs_background": "light"
     },
     "output_type": "display_data"
    }
   ],
   "source": [
    "from sklearn.tree import DecisionTreeClassifier as DTC\n",
    "from sklearn.neighbors import KNeighborsClassifier as KNC\n",
    "from sklearn.naive_bayes import GaussianNB as GNB\n",
    "from sklearn.svm import SVC\n",
    "\n",
    "knc = KNC(n_neighbors=5)\n",
    "dt = [DTC(criterion='entropy'), DTC(criterion='gini')]\n",
    "nb = GNB()\n",
    "svm = SVC(kernel=\"linear\")\n",
    "\n",
    "knc.fit(x_train,y_train)\n",
    "dt[0].fit(x_train,y_train)\n",
    "dt[1].fit(x_train,y_train)\n",
    "svm.fit(x_train,y_train)\n",
    "nb.fit(x_train,y_train)\n",
    "\n",
    "knc_pred = knc.predict(x_test)\n",
    "dt_pred_ent = dt[0].predict(x_test)\n",
    "dt_pred_gini = dt[1].predict(x_test)\n",
    "svm_pred = svm.predict(x_test)\n",
    "nb_pred = nb.predict(x_test)\n",
    "\n",
    "from sklearn.metrics import accuracy_score as acs\n",
    "\n",
    "\n",
    "knc_acc=acs(y_test,nb_pred)\n",
    "dt_acc_ent=acs(y_test,dt_pred_ent)\n",
    "dt_acc_gini=acs(y_test,dt_pred_gini)\n",
    "svm_acc=acs(y_test,svm_pred)\n",
    "nb_acc=acs(y_test,nb_pred)\n",
    "\n",
    "print(\"Acurracy Scores:\")\n",
    "print(f\"{knc_acc=}\")\n",
    "print(f\"{dt_acc_ent=}\")\n",
    "print(f\"{dt_acc_gini=}\")\n",
    "print(f\"{svm_acc=}\")\n",
    "print(f\"{nb_acc=}\")\n",
    "\n",
    "a = ['KNC', 'DTC-entropy','DTC-gini', 'NB',\"SVM\"]\n",
    "b = [knc_acc,dt_acc_ent,dt_acc_gini,nb_acc,svm_acc]\n",
    "\n",
    "plt.bar(a,b);"
   ]
  }
 ],
 "metadata": {
  "kernelspec": {
   "display_name": "Python 3 (ipykernel)",
   "language": "python",
   "name": "python3"
  },
  "language_info": {
   "codemirror_mode": {
    "name": "ipython",
    "version": 3
   },
   "file_extension": ".py",
   "mimetype": "text/x-python",
   "name": "python",
   "nbconvert_exporter": "python",
   "pygments_lexer": "ipython3",
   "version": "3.9.10"
  }
 },
 "nbformat": 4,
 "nbformat_minor": 5
}
