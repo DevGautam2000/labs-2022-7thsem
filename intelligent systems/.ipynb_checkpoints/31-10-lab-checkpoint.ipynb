{
 "cells": [
  {
   "cell_type": "code",
   "execution_count": 2,
   "id": "c8d3788a",
   "metadata": {},
   "outputs": [],
   "source": [
    "import pandas as pd\n",
    "import numpy as np\n",
    "import matplotlib.pyplot as plt"
   ]
  },
  {
   "cell_type": "code",
   "execution_count": 3,
   "id": "015b3a89",
   "metadata": {},
   "outputs": [
    {
     "name": "stdout",
     "output_type": "stream",
     "text": [
      "df_bill.shape=(1372, 5)\n",
      "df_social.shape=(400, 5)\n"
     ]
    }
   ],
   "source": [
    "df_bill = pd.read_csv('bill_authentication.csv')\n",
    "df_social = pd.read_csv('Social_Network_Ads.csv')\n",
    "print(f\"{df_bill.shape=}\")\n",
    "print(f\"{df_social.shape=}\")"
   ]
  },
  {
   "cell_type": "code",
   "execution_count": 4,
   "id": "4b14afdc",
   "metadata": {},
   "outputs": [],
   "source": [
    "x_bill = df_bill.drop('Class',axis=1)\n",
    "y_bill = df_bill['Class']\n",
    "\n",
    "x_social = df_social.drop('Gender',axis=1)\n",
    "y_social = df_social['Gender']\n",
    "\n",
    "social = {}\n",
    "bill = {}\n",
    "scores = {}"
   ]
  },
  {
   "cell_type": "code",
   "execution_count": 5,
   "id": "34d5efed",
   "metadata": {},
   "outputs": [],
   "source": [
    "from sklearn.model_selection import train_test_split as tts\n",
    "bill['train'] = {\n",
    "    \n",
    "        0 : [tts(x_bill,y_bill,test_size=0.25,random_state=0),tts(x_bill,y_bill,test_size=0.30,random_state=0)],\n",
    "        5 : [tts(x_bill,y_bill,test_size=0.25,random_state=5),tts(x_bill,y_bill,test_size=0.30,random_state=5)],\n",
    "        10 : [tts(x_bill,y_bill,test_size=0.25,random_state=10),tts(x_bill,y_bill,test_size=0.30,random_state=10)],\n",
    "        \n",
    "}\n",
    "\n",
    "social['train'] ={\n",
    "    \n",
    "        0 : [tts(x_social,y_social,test_size=0.25,random_state=0),tts(x_social,y_social,test_size=0.30,random_state=0)],\n",
    "        5 : [tts(x_social,y_social,test_size=0.25,random_state=5),tts(x_social,y_social,test_size=0.30,random_state=5)],\n",
    "        10 : [tts(x_social,y_social,test_size=0.25,random_state=10),tts(x_social,y_social,test_size=0.30,random_state=10)],\n",
    "        \n",
    "}\n"
   ]
  },
  {
   "cell_type": "code",
   "execution_count": 20,
   "id": "2ca8dfe9",
   "metadata": {},
   "outputs": [
    {
     "name": "stdout",
     "output_type": "stream",
     "text": [
      "0 : val\n",
      "5 : val\n",
      "10 : val\n"
     ]
    }
   ],
   "source": [
    "from sklearn import tree\n",
    "from sklearn.neighbors import KNeighborsClassifier as KNC\n",
    "\n",
    "# for random state 0\n",
    "\n",
    "train_bill = bill['train'][0]\n",
    "\n",
    "bill['classifier'] = {\n",
    "    'knc' : KNC(n_neighbors=5),\n",
    "    'dt' : tree.DecisionTreeClassifier()\n",
    "}\n",
    "\n",
    "\n",
    "bill['model'] = {\n",
    "    'knc' :  [bill['classifier']['knc'].fit(train_bill[0][0],train_bill[0][2]),\n",
    "              bill['classifier']['knc'].fit(train_bill[1][0],train_bill[1][2])],\n",
    "    'dt' : [\n",
    "            bill['classifier']['dt'].fit(train_bill[0][0],train_bill[0][2]),\n",
    "            bill['classifier']['dt'].fit(train_bill[1][0],train_bill[1][2])]\n",
    "}\n",
    "\n",
    "\n",
    "train_social = social['train'][0]\n",
    "social['classifier'] = {\n",
    "    'knc' : KNC(n_neighbors=5),\n",
    "    'dt' : tree.DecisionTreeClassifier()\n",
    "}\n",
    "\n",
    "\n",
    "social['model'] = {\n",
    "    'knc' :  [social['classifier']['knc'].fit(train_social[0][0],train_social[0][2]),\n",
    "              social['classifier']['knc'].fit(train_social[1][0],train_social[1][2])],\n",
    "    'dt' : [\n",
    "            social['classifier']['dt'].fit(train_social[0][0],train_social[0][2]),\n",
    "            social['classifier']['dt'].fit(train_social[1][0],train_social[1][2])]\n",
    "}\n"
   ]
  },
  {
   "cell_type": "code",
   "execution_count": 10,
   "id": "c2fb7a6d",
   "metadata": {},
   "outputs": [],
   "source": [
    "bill['pred'] = {\n",
    "    \n",
    "    'knc' : [bill['model']['knc'][0].predict(train_bill[0][1]),\n",
    "           bill['model']['knc'][1].predict(train_bill[1][1]) ],\n",
    "    \n",
    "    'dt': [bill['model']['dt'][0].predict(train_bill[0][1]),\n",
    "           bill['model']['dt'][1].predict(train_bill[1][1]) ]\n",
    "}\n",
    "\n",
    "social['pred'] = {\n",
    "    \n",
    "    'knc' :  [social['model']['knc'][0].predict(train_social[0][1]),\n",
    "           social['model']['knc'][1].predict(train_social[1][1]) ],\n",
    "    \n",
    "    'dt': [social['model']['dt'][0].predict(train_social[0][1]),\n",
    "           social['model']['dt'][1].predict(train_social[1][1]) ]\n",
    "}\n",
    "\n",
    "# print(bill)\n"
   ]
  },
  {
   "cell_type": "code",
   "execution_count": 14,
   "id": "2e77e430",
   "metadata": {},
   "outputs": [
    {
     "name": "stdout",
     "output_type": "stream",
     "text": [
      "bill['scores']={'dt': [0.9766763848396501, 0.9757281553398058], 'knc': []}\n",
      "social['scores']={'dt': [0.47, 0.48333333333333334], 'knc': []}\n"
     ]
    }
   ],
   "source": [
    "from sklearn.metrics import accuracy_score as acs,classification_report,confusion_matrix\n",
    "\n",
    "bill['scores'] = {\n",
    "    \n",
    "    'dt': [acs(train_bill[0][3],bill['pred']['dt'][0]),\n",
    "           acs(train_bill[1][3],bill['pred']['dt'][1])],\n",
    "    \n",
    "    'knc'  : []\n",
    "}\n",
    "\n",
    "\n",
    "social['scores'] = {\n",
    "    \n",
    "    'dt': [acs(train_social[0][3],social['pred']['dt'][0]),\n",
    "           acs(train_social[1][3],social['pred']['dt'][1])],\n",
    "    \n",
    "    'knc'  : []\n",
    "}\n",
    "\n",
    "print(f\"{bill['scores']=}\")\n",
    "print(f\"{social['scores']=}\")"
   ]
  }
 ],
 "metadata": {
  "kernelspec": {
   "display_name": "Python 3 (ipykernel)",
   "language": "python",
   "name": "python3"
  },
  "language_info": {
   "codemirror_mode": {
    "name": "ipython",
    "version": 3
   },
   "file_extension": ".py",
   "mimetype": "text/x-python",
   "name": "python",
   "nbconvert_exporter": "python",
   "pygments_lexer": "ipython3",
   "version": "3.9.10"
  }
 },
 "nbformat": 4,
 "nbformat_minor": 5
}
