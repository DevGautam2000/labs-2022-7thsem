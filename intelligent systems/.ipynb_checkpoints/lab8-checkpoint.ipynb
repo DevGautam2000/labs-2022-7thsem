{
 "cells": [
  {
   "cell_type": "code",
   "execution_count": 3,
   "metadata": {},
   "outputs": [],
   "source": [
    "\"\"\"\n",
    "              AUTHOR : GAUTAM CHANDRA SAHA\n",
    "              DATE & TIME: Mon, October 31,2022 AT 19:23 \n",
    "              DESCRIPTION:\n",
    "    \n",
    "\"\"\"\n",
    "    \n",
    "import pandas as pd\n",
    "import numpy as np\n",
    "import matplotlib.pyplot as plt\n",
    "\n",
    "class Classifiers:\n",
    "    knc = \"\"\n",
    "    dt = \"\"\n",
    "    nbg = \"\"\n",
    "    svm = \"\"\n",
    "\n",
    "  \n",
    "class Vars:\n",
    "    x = []\n",
    "    y = []\n",
    "\n",
    "class Data:\n",
    "    df  =  Vars()    \n",
    "    rand = dict\n",
    "    train = Vars()\n",
    "    test = Vars()\n",
    "    classifier = Classifiers()\n",
    "    model = Classifiers()\n",
    "    pred = Classifiers()\n",
    "    scores = Classifiers()\n",
    "    \n"
   ]
  },
  {
   "cell_type": "code",
   "execution_count": 4,
   "metadata": {},
   "outputs": [
    {
     "name": "stdout",
     "output_type": "stream",
     "text": [
      "df_bill.shape=(1372, 5)\n",
      "df_social.shape=(400, 5)\n"
     ]
    }
   ],
   "source": [
    "df_bill = pd.read_csv('bill_authentication.csv')\n",
    "df_social = pd.read_csv('Social_Network_Ads.csv')\n",
    "print(f\"{df_bill.shape=}\")\n",
    "print(f\"{df_social.shape=}\")"
   ]
  },
  {
   "cell_type": "code",
   "execution_count": 5,
   "metadata": {},
   "outputs": [],
   "source": [
    "social = Data()\n",
    "bill = Data()\n",
    "random_states = [0,5,10]\n",
    "test_sizes = [0.25,0.30]\n",
    "\n",
    "bill.df.x =  df_bill.drop('Class',axis=1)\n",
    "bill.df.y = df_bill['Class']\n",
    "\n",
    "social.df.x =  df_social.drop('Gender',axis=1)\n",
    "social.df.y = df_social['Gender']\n",
    "\n"
   ]
  },
  {
   "cell_type": "code",
   "execution_count": 6,
   "metadata": {},
   "outputs": [],
   "source": [
    "from sklearn.model_selection import train_test_split as tts\n",
    "\n",
    "\n",
    "bill.rand = {\n",
    "         random_state : [ tts (bill.df.x, bill.df.y, test_size = test_size, random_state=random_state) \n",
    "         for test_size in test_sizes] \n",
    "         for random_state in random_states }\n",
    "\n",
    "\n",
    "\n",
    "data = {\n",
    "        random_state :  [{ \n",
    "                'x_train': bill.rand[random_state][item][0] ,\n",
    "                'x_test': bill.rand[random_state][item][1] ,\n",
    "                'y_train': bill.rand[random_state][item][2] ,\n",
    "                'y_test': bill.rand[random_state][item][3] }\n",
    "                \n",
    "                for item in [0,1]\n",
    "                ]\n",
    "\n",
    "         for random_state in random_states}\n",
    "\n",
    "\n"
   ]
  },
  {
   "cell_type": "code",
   "execution_count": 7,
   "metadata": {},
   "outputs": [
    {
     "name": "stdout",
     "output_type": "stream",
     "text": [
      "{'KNC': {0: [0.61, 0.6083333333333333], 5: [0.6, 0.5833333333333334], 10: [0.52, 0.4666666666666667]}, 'DTC': {0: [0.81, 0.8333333333333334], 5: [0.88, 0.8583333333333333], 10: [0.52, 0.5]}, 'GNB': {0: [0.45, 0.49166666666666664], 5: [0.54, 0.5166666666666667], 10: [0.45, 0.425]}, 'SVM': {0: [0.51, 0.5416666666666666], 5: [0.49, 0.5], 10: [0.45, 0.425]}}\n"
     ]
    }
   ],
   "source": [
    "from sklearn.tree import DecisionTreeClassifier as DTC\n",
    "from sklearn.neighbors import KNeighborsClassifier as KNC\n",
    "from sklearn.naive_bayes import GaussianNB as GNB\n",
    "from sklearn.svm import SVC\n",
    "\n",
    "#* for KNC\n",
    "\n",
    "bill.classifier.knc = KNC(n_neighbors=5)\n",
    "\n",
    "bill.model.knc = {\n",
    "    rs : [bill.classifier.knc.fit(\n",
    "        X=data[rs][i]['x_train'],y=data[rs][i]['y_train'])\n",
    "        for i in [0,1]]\n",
    "    for rs in random_states\n",
    "}\n",
    "\n",
    "# [rs][i]['x_test']\n",
    "bill.pred.knc ={\n",
    "    rs : [bill.model.knc[rs][i].predict(data[rs][i]['x_test'])\n",
    "        for i in [0,1]]\n",
    "    for rs in random_states\n",
    "}\n",
    "\n",
    "#* for DTC\n",
    "bill.classifier.dt = DTC()\n",
    "bill.model.dt = {\n",
    "    rs : [bill.classifier.dt.fit(\n",
    "        X=data[rs][i]['x_train'],y=data[rs][i]['y_train'])\n",
    "        for i in [0,1]]\n",
    "    for rs in random_states\n",
    "}\n",
    "\n",
    "bill.pred.dt ={\n",
    "    rs : [bill.model.dt[rs][i].predict(data[rs][i]['x_test'])\n",
    "        for i in [0,1]]\n",
    "    for rs in random_states\n",
    "}\n",
    "\n",
    "\n",
    "#* for GNB\n",
    "\n",
    "bill.classifier.nbg = GNB()\n",
    "\n",
    "bill.model.nbg = {\n",
    "    rs : [bill.classifier.nbg.fit(\n",
    "        X=data[rs][i]['x_train'],y=data[rs][i]['y_train'])\n",
    "        for i in [0,1]]\n",
    "    for rs in random_states\n",
    "}\n",
    "\n",
    "# [rs][i]['x_test']\n",
    "bill.pred.nbg ={\n",
    "    rs : [bill.model.nbg[rs][i].predict(data[rs][i]['x_test'])\n",
    "        for i in [0,1]]\n",
    "    for rs in random_states\n",
    "}\n",
    "\n",
    "#* for SVC\n",
    "bill.classifier.svm = SVC()\n",
    "\n",
    "bill.model.svm = {\n",
    "    rs : [bill.classifier.svm.fit(\n",
    "        X=data[rs][i]['x_train'],y=data[rs][i]['y_train'])\n",
    "        for i in [0,1]]\n",
    "    for rs in random_states\n",
    "}\n",
    "\n",
    "# [rs][i]['x_test']\n",
    "bill.pred.svm ={\n",
    "    rs : [bill.model.svm[rs][i].predict(data[rs][i]['x_test'])\n",
    "        for i in [0,1]]\n",
    "    for rs in random_states\n",
    "}\n",
    "\n",
    "\n",
    "from sklearn.metrics import accuracy_score as acs\n",
    "\n",
    "bill.scores.knc = {\n",
    "    rs : [\n",
    "        acs(data[rs][i]['y_test'],bill.pred.knc[rs][i])\n",
    "        for i in [0,1]]\n",
    "    for rs in random_states\n",
    "}\n",
    "\n",
    "bill.scores.dt = {\n",
    "    rs : [\n",
    "        acs(data[rs][i]['y_test'],bill.pred.dt[rs][i])\n",
    "        for i in [0,1]]\n",
    "    for rs in random_states\n",
    "}\n",
    "\n",
    "bill.scores.nbg = {\n",
    "    rs : [\n",
    "        acs(data[rs][i]['y_test'],bill.pred.nbg[rs][i])\n",
    "        for i in [0,1]]\n",
    "    for rs in random_states\n",
    "}\n",
    "\n",
    "bill.scores.svm = {\n",
    "    rs : [\n",
    "        acs(data[rs][i]['y_test'],bill.pred.svm[rs][i])\n",
    "        for i in [0,1]]\n",
    "    for rs in random_states\n",
    "}\n",
    "\n",
    "scores = {\n",
    "    \"KNC\": bill.scores.knc,\n",
    "    \"DTC\": bill.scores.dt,\n",
    "    \"GNB\": bill.scores.nbg,\n",
    "    \"SVM\": bill.scores.svm}\n",
    "\n",
    "print(scores)\n",
    "\n",
    "# todo : GINI\n",
    "# todo : ENTROPY\n",
    "\n",
    "# import json\n",
    "# print(json.dumps(scores,indent=2))\n",
    "\n"
   ]
  },
  {
   "cell_type": "code",
   "execution_count": 8,
   "metadata": {},
   "outputs": [
    {
     "name": "stdout",
     "output_type": "stream",
     "text": [
      "p=[{0: [0.61, 0.6083333333333333], 5: [0.6, 0.5833333333333334], 10: [0.52, 0.4666666666666667]}, {0: [0.81, 0.8333333333333334], 5: [0.88, 0.8583333333333333], 10: [0.52, 0.5]}, {0: [0.45, 0.49166666666666664], 5: [0.54, 0.5166666666666667], 10: [0.45, 0.425]}, {0: [0.51, 0.5416666666666666], 5: [0.49, 0.5], 10: [0.45, 0.425]}]\n",
      "[[0.61, 0.81, 0.45, 0.51], [0.6, 0.88, 0.54, 0.49], [0.52, 0.52, 0.45, 0.45], [0.6083333333333333, 0.8333333333333334, 0.49166666666666664, 0.5416666666666666], [0.5833333333333334, 0.8583333333333333, 0.5166666666666667, 0.5], [0.4666666666666667, 0.5, 0.425, 0.425]]\n",
      "[0.61, 0.81, 0.45, 0.51]\n",
      "[0.6, 0.88, 0.54, 0.49]\n",
      "[0.52, 0.52, 0.45, 0.45]\n",
      "[0.6083333333333333, 0.8333333333333334, 0.49166666666666664, 0.5416666666666666]\n",
      "[0.5833333333333334, 0.8583333333333333, 0.5166666666666667, 0.5]\n",
      "[0.4666666666666667, 0.5, 0.425, 0.425]\n"
     ]
    },
    {
     "data": {
      "image/png": "[encoded data removed]",
      "text/plain": [
       "<Figure size 432x288 with 1 Axes>"
      ]
     },
     "metadata": {
      "needs_background": "light"
     },
     "output_type": "display_data"
    }
   ],
   "source": [
    "from cProfile import label\n",
    "from turtle import color\n",
    "import matplotlib.pyplot as plt\n",
    "\n",
    "\n",
    "\n",
    "# for knc\n",
    "\n",
    "# x = [ vals for vals in scores.values() ]\n",
    "\n",
    "# df = pd.DataFrame(x)\n",
    "# z = df.loc[0][0]\n",
    "# f = df.loc[1][0]\n",
    "# t = df.loc[2][0]\n",
    "# X = [z,f,t]\n",
    "\n",
    "# print(scores)\n",
    "\n",
    "y = [\n",
    "    [v[rs][i] for v in scores.values()]\n",
    "    for i in [0,1]\n",
    "    for rs in random_states\n",
    "]\n",
    "\n",
    "p = [ v for v in scores.values()]\n",
    "print(f\"{p=}\")\n",
    "x = [k for k in scores.keys()]\n",
    "\n",
    "print(y)\n",
    "for d in y:\n",
    "    print(d)\n",
    "    plt.bar(x,d)\n",
    "\n",
    "# ax = plt.subplot(111)\n",
    "# ax.bar(0, y[0], width=0.2, color='b', align='center')\n",
    "# ax.bar(5, y[1], width=0.2, color='g', align='center')\n",
    "# ax.bar(10, y[2], width=0.2, color='r', align='center')\n",
    "\n",
    "\n",
    "# plt.legend(x)\n",
    "# plt.ylabel(\"accuracy score\")\n",
    "# plt.xlabel(\"classifiers\")\n",
    "# plt.title(\"Accuracy vs. Classifiers graph\")\n",
    "\n"
   ]
  },
  {
   "cell_type": "code",
   "execution_count": 48,
   "metadata": {},
   "outputs": [
    {
     "name": "stdout",
     "output_type": "stream",
     "text": [
      "['KNC', 'DTC', 'GNB']\n",
      "[0.61, 0.6, 0.52]\n",
      "[0.6083333333333333, 0.5833333333333334, 0.4666666666666667]\n",
      "[0 1 2]\n"
     ]
    },
    {
     "data": {
      "image/png": "[encoded data removed]",
      "text/plain": [
       "<Figure size 432x288 with 1 Axes>"
      ]
     },
     "metadata": {
      "needs_background": "light"
     },
     "output_type": "display_data"
    }
   ],
   "source": [
    "import matplotlib.pyplot as plt\n",
    "import numpy as np\n",
    "\n",
    "labels = [ v for v in scores.keys() ]\n",
    "\n",
    "print(labels[:3])\n",
    "\n",
    "knn_25 = [ v[0] for v in scores['KNC'].values() ]\n",
    "knn_30 = [ v[1] for v in scores['KNC'].values() ]\n",
    "\n",
    "print(knn_25)\n",
    "print(knn_30)\n",
    "\n",
    "x = np.arange(len(labels)-1)  # the label locations\n",
    "width = 0.2  # the width of the bars\n",
    "print(x)\n",
    "\n",
    "fig, ax = plt.subplots()\n",
    "rects1 = ax.bar(x - width/2, knn_25, width, label='25%')\n",
    "rects2 = ax.bar(x + width/2 , knn_30, width, label='30%')\n",
    "\n",
    "ax.set_ylabel('Accuracy Score')\n",
    "# ax.set_title('Scores by group and gender')\n",
    "ax.set_xticks(x, labels[:3])\n",
    "ax.legend()\n",
    "\n",
    "\n",
    "\n",
    "\n",
    "fig.tight_layout()\n",
    "\n",
    "plt.show()\n"
   ]
  },
  {
   "cell_type": "code",
   "execution_count": 18,
   "metadata": {},
   "outputs": [
    {
     "data": {
      "image/png": "[encoded data removed]",
      "text/plain": [
       "<Figure size 432x288 with 1 Axes>"
      ]
     },
     "metadata": {
      "needs_background": "light"
     },
     "output_type": "display_data"
    }
   ],
   "source": [
    "import matplotlib.pyplot as plt\n",
    "import numpy as np\n",
    "\n",
    "\n",
    "labels = ['G1', 'G2', 'G3', 'G4', 'G5']\n",
    "men_means = [20, 34, 30, 35, 27]\n",
    "women_means = [25, 32, 34, 20, 25]\n",
    "t_means = [25, 32, 34, 20, 25]\n",
    "\n",
    "x = np.arange(len(labels))  # the label locations\n",
    "width = 0.2  # the width of the bars\n",
    "\n",
    "fig, ax = plt.subplots()\n",
    "rects1 = ax.bar(x - width, men_means, width, label='Men')\n",
    "rects2 = ax.bar(x , women_means, width, label='Women')\n",
    "rects3 = ax.bar(x + width, t_means, width, label='Others')\n",
    "\n",
    "# Add some text for labels, title and custom x-axis tick labels, etc.\n",
    "ax.set_ylabel('Scores')\n",
    "ax.set_title('Scores by group and gender')\n",
    "ax.set_xticks(x, labels)\n",
    "ax.legend()\n",
    "\n",
    "ax.bar_label(rects1, padding=3)\n",
    "ax.bar_label(rects2, padding=3)\n",
    "ax.bar_label(rects3, padding=3)\n",
    "\n",
    "fig.tight_layout()\n",
    "\n",
    "plt.show()\n",
    "\n",
    "\n",
    "\n"
   ]
  }
 ],
 "metadata": {
  "kernelspec": {
   "display_name": "Python 3 (ipykernel)",
   "language": "python",
   "name": "python3"
  },
  "language_info": {
   "codemirror_mode": {
    "name": "ipython",
    "version": 3
   },
   "file_extension": ".py",
   "mimetype": "text/x-python",
   "name": "python",
   "nbconvert_exporter": "python",
   "pygments_lexer": "ipython3",
   "version": "3.9.10"
  },
  "vscode": {
   "interpreter": {
    "hash": "b0fa6594d8f4cbf19f97940f81e996739fb7646882a419484c72d19e05852a7e"
   }
  }
 },
 "nbformat": 4,
 "nbformat_minor": 2
}
