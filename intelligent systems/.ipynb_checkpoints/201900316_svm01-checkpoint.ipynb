{
 "cells": [
  {
   "cell_type": "code",
   "execution_count": 1,
   "metadata": {},
   "outputs": [],
   "source": [
    "import pandas as pd\n",
    "import matplotlib.pyplot as plt\n",
    "from sklearn.model_selection import train_test_split"
   ]
  },
  {
   "cell_type": "code",
   "execution_count": 22,
   "metadata": {},
   "outputs": [
    {
     "data": {
      "text/html": [
       "<div>\n",
       "<style scoped>\n",
       "    .dataframe tbody tr th:only-of-type {\n",
       "        vertical-align: middle;\n",
       "    }\n",
       "\n",
       "    .dataframe tbody tr th {\n",
       "        vertical-align: top;\n",
       "    }\n",
       "\n",
       "    .dataframe thead th {\n",
       "        text-align: right;\n",
       "    }\n",
       "</style>\n",
       "<table border=\"1\" class=\"dataframe\">\n",
       "  <thead>\n",
       "    <tr style=\"text-align: right;\">\n",
       "      <th></th>\n",
       "      <th>User ID</th>\n",
       "      <th>Gender</th>\n",
       "      <th>Age</th>\n",
       "      <th>EstimatedSalary</th>\n",
       "      <th>Purchased</th>\n",
       "    </tr>\n",
       "  </thead>\n",
       "  <tbody>\n",
       "    <tr>\n",
       "      <th>0</th>\n",
       "      <td>15624510</td>\n",
       "      <td>Male</td>\n",
       "      <td>19</td>\n",
       "      <td>19000</td>\n",
       "      <td>0</td>\n",
       "    </tr>\n",
       "    <tr>\n",
       "      <th>1</th>\n",
       "      <td>15810944</td>\n",
       "      <td>Male</td>\n",
       "      <td>35</td>\n",
       "      <td>20000</td>\n",
       "      <td>0</td>\n",
       "    </tr>\n",
       "    <tr>\n",
       "      <th>2</th>\n",
       "      <td>15668575</td>\n",
       "      <td>Female</td>\n",
       "      <td>26</td>\n",
       "      <td>43000</td>\n",
       "      <td>0</td>\n",
       "    </tr>\n",
       "    <tr>\n",
       "      <th>3</th>\n",
       "      <td>15603246</td>\n",
       "      <td>Female</td>\n",
       "      <td>27</td>\n",
       "      <td>57000</td>\n",
       "      <td>0</td>\n",
       "    </tr>\n",
       "    <tr>\n",
       "      <th>4</th>\n",
       "      <td>15804002</td>\n",
       "      <td>Male</td>\n",
       "      <td>19</td>\n",
       "      <td>76000</td>\n",
       "      <td>0</td>\n",
       "    </tr>\n",
       "  </tbody>\n",
       "</table>\n",
       "</div>"
      ],
      "text/plain": [
       "    User ID  Gender  Age  EstimatedSalary  Purchased\n",
       "0  15624510    Male   19            19000          0\n",
       "1  15810944    Male   35            20000          0\n",
       "2  15668575  Female   26            43000          0\n",
       "3  15603246  Female   27            57000          0\n",
       "4  15804002    Male   19            76000          0"
      ]
     },
     "execution_count": 22,
     "metadata": {},
     "output_type": "execute_result"
    }
   ],
   "source": [
    "data = pd.read_csv(\"Social_Network_Ads.csv\")\n",
    "# print(data)\n",
    "data.head()"
   ]
  },
  {
   "cell_type": "code",
   "execution_count": 23,
   "metadata": {},
   "outputs": [
    {
     "name": "stdout",
     "output_type": "stream",
     "text": [
      "      User ID  Age  EstimatedSalary  Purchased  Female  Male\n",
      "0    15624510   19            19000          0       0     1\n",
      "1    15810944   35            20000          0       0     1\n",
      "2    15668575   26            43000          0       1     0\n",
      "3    15603246   27            57000          0       1     0\n",
      "4    15804002   19            76000          0       0     1\n",
      "5    15728773   27            58000          0       0     1\n",
      "6    15598044   27            84000          0       1     0\n",
      "7    15694829   32           150000          1       1     0\n",
      "8    15600575   25            33000          0       0     1\n",
      "9    15727311   35            65000          0       1     0\n",
      "10   15570769   26            80000          0       1     0\n",
      "11   15606274   26            52000          0       1     0\n",
      "12   15746139   20            86000          0       0     1\n",
      "13   15704987   32            18000          0       0     1\n",
      "14   15628972   18            82000          0       0     1\n",
      "15   15697686   29            80000          0       0     1\n",
      "16   15733883   47            25000          1       0     1\n",
      "17   15617482   45            26000          1       0     1\n",
      "18   15704583   46            28000          1       0     1\n",
      "19   15621083   48            29000          1       1     0\n",
      "20   15649487   45            22000          1       0     1\n",
      "21   15736760   47            49000          1       1     0\n",
      "22   15714658   48            41000          1       0     1\n",
      "23   15599081   45            22000          1       1     0\n",
      "24   15705113   46            23000          1       0     1\n",
      "25   15631159   47            20000          1       0     1\n",
      "26   15792818   49            28000          1       0     1\n",
      "27   15633531   47            30000          1       1     0\n",
      "28   15744529   29            43000          0       0     1\n",
      "29   15669656   31            18000          0       0     1\n",
      "..        ...  ...              ...        ...     ...   ...\n",
      "370  15611430   60            46000          1       1     0\n",
      "371  15774744   60            83000          1       0     1\n",
      "372  15629885   39            73000          0       1     0\n",
      "373  15708791   59           130000          1       0     1\n",
      "374  15793890   37            80000          0       1     0\n",
      "375  15646091   46            32000          1       1     0\n",
      "376  15596984   46            74000          0       1     0\n",
      "377  15800215   42            53000          0       1     0\n",
      "378  15577806   41            87000          1       0     1\n",
      "379  15749381   58            23000          1       1     0\n",
      "380  15683758   42            64000          0       0     1\n",
      "381  15670615   48            33000          1       0     1\n",
      "382  15715622   44           139000          1       1     0\n",
      "383  15707634   49            28000          1       0     1\n",
      "384  15806901   57            33000          1       1     0\n",
      "385  15775335   56            60000          1       0     1\n",
      "386  15724150   49            39000          1       1     0\n",
      "387  15627220   39            71000          0       0     1\n",
      "388  15672330   47            34000          1       0     1\n",
      "389  15668521   48            35000          1       1     0\n",
      "390  15807837   48            33000          1       0     1\n",
      "391  15592570   47            23000          1       0     1\n",
      "392  15748589   45            45000          1       1     0\n",
      "393  15635893   60            42000          1       0     1\n",
      "394  15757632   39            59000          0       1     0\n",
      "395  15691863   46            41000          1       1     0\n",
      "396  15706071   51            23000          1       0     1\n",
      "397  15654296   50            20000          1       1     0\n",
      "398  15755018   36            33000          0       0     1\n",
      "399  15594041   49            36000          1       1     0\n",
      "\n",
      "[400 rows x 6 columns]\n"
     ]
    }
   ],
   "source": [
    "gender = pd.get_dummies(data['Gender'])\n",
    "data = data.drop('Gender',axis=1)\n",
    "data = pd.concat([data, gender], axis=1)\n",
    "print(data)\n"
   ]
  },
  {
   "cell_type": "code",
   "execution_count": 24,
   "metadata": {},
   "outputs": [
    {
     "name": "stdout",
     "output_type": "stream",
     "text": [
      "Shape of Training Data:  (240, 2)\n",
      "Shape of Test Data:  (160, 2)\n",
      "Shape of Training Data:  (240,)\n",
      "Shape of Test Data:  (160,)\n"
     ]
    }
   ],
   "source": [
    "X = data[['User ID','EstimatedSalary']]\n",
    "Y = data['Purchased']\n",
    "# print(X)\n",
    "X_train,X_test,Y_train,Y_test = train_test_split(X,Y,test_size=0.4)\n",
    "print(\"Shape of Training Data: \",X_train.shape)\n",
    "print(\"Shape of Test Data: \",X_test.shape)\n",
    "print(\"Shape of Training Data: \",Y_train.shape)\n",
    "print(\"Shape of Test Data: \",Y_test.shape)"
   ]
  },
  {
   "cell_type": "code",
   "execution_count": 25,
   "metadata": {},
   "outputs": [
    {
     "data": {
      "text/plain": [
       "SVC(C=1.0, cache_size=200, class_weight=None, coef0=0.0,\n",
       "    decision_function_shape='ovr', degree=3, gamma='auto_deprecated',\n",
       "    kernel='linear', max_iter=-1, probability=False, random_state=0,\n",
       "    shrinking=True, tol=0.001, verbose=False)"
      ]
     },
     "execution_count": 25,
     "metadata": {},
     "output_type": "execute_result"
    }
   ],
   "source": [
    "from sklearn.svm import SVC\n",
    "classifier_Linear = SVC(kernel = 'linear',random_state = 0)\n",
    "classifier_Linear.fit(X_train, Y_train)"
   ]
  },
  {
   "cell_type": "code",
   "execution_count": 26,
   "metadata": {},
   "outputs": [
    {
     "name": "stdout",
     "output_type": "stream",
     "text": [
      "[0 0 0 0 0 0 0 0 0 0 0 0 0 1 1 1 1 0 0 1 0 0 1 1 0 1 0 0 0 0 0 0 0 0 0 0 0\n",
      " 0 0 1 0 0 0 0 0 0 0 0 0 0 0 0 0 0 0 0 1 0 0 0 0 0 1 0 0 0 1 1 0 0 0 1 0 0\n",
      " 0 0 0 1 0 0 0 0 0 0 1 0 0 0 0 0 0 0 1 1 0 1 0 0 0 0 0 0 0 0 0 0 0 0 0 0 0\n",
      " 0 0 0 0 0 0 0 0 0 0 0 0 0 0 0 0 0 0 0 0 0 0 0 1 0 0 1 0 1 1 0 0 0 0 0 1 0\n",
      " 1 0 0 1 0 1 1 0 0 1 1 0]\n"
     ]
    }
   ],
   "source": [
    "predval = classifier_Linear.predict(X_test)\n",
    "print(predval)"
   ]
  },
  {
   "cell_type": "code",
   "execution_count": 27,
   "metadata": {},
   "outputs": [
    {
     "name": "stdout",
     "output_type": "stream",
     "text": [
      "Accuracy of Linear SVM Model is  0.775\n",
      "\n",
      " \n",
      " Confusion Matrix of Linear SVM Model:\n",
      " [[103   9]\n",
      " [ 27  21]]\n"
     ]
    }
   ],
   "source": [
    "from sklearn.metrics import confusion_matrix\n",
    "from sklearn.metrics import accuracy_score\n",
    "print('Accuracy of Linear SVM Model is ', accuracy_score(Y_test, predval))\n",
    "print('\\n', '\\n','Confusion Matrix of Linear SVM Model:' '\\n', confusion_matrix(Y_test, predval))"
   ]
  },
  {
   "cell_type": "code",
   "execution_count": null,
   "metadata": {},
   "outputs": [],
   "source": []
  }
 ],
 "metadata": {
  "kernelspec": {
   "display_name": "Python 3 (ipykernel)",
   "language": "python",
   "name": "python3"
  },
  "language_info": {
   "codemirror_mode": {
    "name": "ipython",
    "version": 3
   },
   "file_extension": ".py",
   "mimetype": "text/x-python",
   "name": "python",
   "nbconvert_exporter": "python",
   "pygments_lexer": "ipython3",
   "version": "3.9.10"
  }
 },
 "nbformat": 4,
 "nbformat_minor": 2
}
