{
 "cells": [
  {
   "cell_type": "code",
   "execution_count": 1,
   "id": "8d2980af",
   "metadata": {},
   "outputs": [
    {
     "name": "stdout",
     "output_type": "stream",
     "text": [
      "appnope==0.1.3\r\n",
      "argcomplete==1.10.3\r\n",
      "argon2-cffi==21.3.0\r\n",
      "argon2-cffi-bindings==21.2.0\r\n",
      "asgiref==3.5.0\r\n",
      "asttokens==2.0.7\r\n",
      "attrs==21.2.0\r\n",
      "autopep8==1.5.7\r\n",
      "backcall==0.2.0\r\n",
      "beautifulsoup4==4.8.2\r\n",
      "bleach==4.1.0\r\n",
      "bs4==0.0.1\r\n",
      "certifi==2021.5.30\r\n",
      "cffi==1.15.1\r\n",
      "chardet==3.0.4\r\n",
      "charset-normalizer==2.0.4\r\n",
      "cli-exit-tools==1.1.8\r\n",
      "click==8.0.2\r\n",
      "colorama==0.4.4\r\n",
      "compressed-rtf==1.0.6\r\n",
      "debugpy==1.6.2\r\n",
      "decorator==5.1.1\r\n",
      "defusedxml==0.7.1\r\n",
      "Django==4.0.2\r\n",
      "docutils==0.17.1\r\n",
      "docx2txt==0.8\r\n",
      "ebcdic==1.1.1\r\n",
      "entrypoints==0.4\r\n",
      "executing==0.9.1\r\n",
      "extract-msg==0.28.7\r\n",
      "fake-winreg==1.5.6\r\n",
      "fastjsonschema==2.16.1\r\n",
      "Flask==2.0.2\r\n",
      "Flask-Cors==3.0.10\r\n",
      "ghs==0.1.3\r\n",
      "google==3.0.0\r\n",
      "gpfetcher==0.8.6\r\n",
      "gunicorn==20.1.0\r\n",
      "halo==0.0.31\r\n",
      "idna==3.2\r\n",
      "IMAPClient==2.1.0\r\n",
      "importlib-metadata==4.8.1\r\n",
      "iniconfig==1.1.1\r\n",
      "ipykernel==6.15.1\r\n",
      "ipython==8.4.0\r\n",
      "ipython-genutils==0.2.0\r\n",
      "isodate==0.6.1\r\n",
      "itsdangerous==2.0.1\r\n",
      "jedi==0.18.1\r\n",
      "Jinja2==3.0.3\r\n",
      "joblib==1.1.0\r\n",
      "jsonschema==4.9.1\r\n",
      "jupyter-client==7.3.4\r\n",
      "jupyter-core==4.11.1\r\n",
      "jupyterlab-pygments==0.2.2\r\n",
      "keyring==23.2.1\r\n",
      "lib-platform==1.2.7\r\n",
      "lib-registry==2.0.7\r\n",
      "log-symbols==0.0.14\r\n",
      "lxml==4.6.3\r\n",
      "MarkupSafe==2.0.1\r\n",
      "matplotlib-inline==0.1.3\r\n",
      "mistune==0.8.4\r\n",
      "nbclient==0.6.6\r\n",
      "nbconvert==6.5.0\r\n",
      "nbformat==5.4.0\r\n",
      "nest-asyncio==1.5.5\r\n",
      "nltk==3.6.7\r\n",
      "notebook==6.4.12\r\n",
      "numpy==1.21.4\r\n",
      "olefile==0.46\r\n",
      "packaging==21.0\r\n",
      "pandas==1.4.2\r\n",
      "pandocfilters==1.5.0\r\n",
      "parso==0.8.3\r\n",
      "pdfminer.six==20191110\r\n",
      "pdftotext==2.2.2\r\n",
      "pexpect==4.8.0\r\n",
      "pickleshare==0.7.5\r\n",
      "Pillow==8.3.2\r\n",
      "pkginfo==1.7.1\r\n",
      "pluggy==1.0.0\r\n",
      "prometheus-client==0.14.1\r\n",
      "prompt-toolkit==3.0.30\r\n",
      "protobuf==3.19.4\r\n",
      "psutil==5.9.1\r\n",
      "ptyprocess==0.7.0\r\n",
      "pure-eval==0.2.2\r\n",
      "py==1.11.0\r\n",
      "pycairo==1.21.0\r\n",
      "pycodestyle==2.7.0\r\n",
      "pycparser==2.21\r\n",
      "pycryptodome==3.14.1\r\n",
      "Pygments==2.10.0\r\n",
      "PyGObject==3.42.0\r\n",
      "pymongo==4.1.1\r\n",
      "pyparsing==2.4.7\r\n",
      "pyPdf==1.13\r\n",
      "PyPDF2==1.26.0\r\n",
      "pyperclip==1.8.2\r\n",
      "pyrsistent==0.18.1\r\n",
      "pytest==6.2.5\r\n",
      "pytest-html==3.1.1\r\n",
      "pytest-metadata==1.11.0\r\n",
      "python-dateutil==2.8.2\r\n",
      "python-pptx==0.6.21\r\n",
      "pytz==2022.1\r\n",
      "pytz-deprecation-shim==0.1.0.post0\r\n",
      "pyzmq==23.2.0\r\n",
      "readme-renderer==29.0\r\n",
      "regex==2021.11.10\r\n",
      "requests==2.26.0\r\n",
      "requests-toolbelt==0.9.1\r\n",
      "retry-requests==1.0.1\r\n",
      "rfc3986==1.5.0\r\n",
      "scikit-learn==1.0.2\r\n",
      "scipy==1.8.0\r\n",
      "selenium==3.141.0\r\n",
      "Send2Trash==1.8.0\r\n",
      "six==1.12.0\r\n",
      "sklearn==0.0\r\n",
      "sortedcontainers==2.4.0\r\n",
      "soupsieve==2.2.1\r\n",
      "SpeechRecognition==3.8.1\r\n",
      "spinners==0.0.24\r\n",
      "sqlparse==0.4.2\r\n",
      "stack-data==0.3.0\r\n",
      "termcolor==1.1.0\r\n",
      "terminado==0.15.0\r\n",
      "textract==1.6.5\r\n",
      "threadpoolctl==3.1.0\r\n",
      "tinycss2==1.1.1\r\n",
      "tk==0.1.0\r\n",
      "toml==0.10.2\r\n",
      "torch==1.10.1\r\n",
      "torchaudio==0.10.1\r\n",
      "torchvision==0.11.2\r\n",
      "tornado==6.2\r\n",
      "tqdm==4.62.3\r\n",
      "traitlets==5.3.0\r\n",
      "twine==3.4.2\r\n",
      "typing_extensions==4.0.1\r\n",
      "tzdata==2022.1\r\n",
      "tzlocal==4.1\r\n",
      "urllib3==1.26.6\r\n",
      "wcwidth==0.2.5\r\n",
      "webencodings==0.5.1\r\n",
      "Werkzeug==2.0.2\r\n",
      "wrapt==1.13.1\r\n",
      "xlrd==1.2.0\r\n",
      "XlsxWriter==3.0.3\r\n",
      "zipp==3.5.0\r\n"
     ]
    }
   ],
   "source": [
    "!pip freeze"
   ]
  },
  {
   "cell_type": "code",
   "execution_count": 9,
   "id": "2fe87967",
   "metadata": {},
   "outputs": [
    {
     "name": "stdout",
     "output_type": "stream",
     "text": [
      "Hello\n",
      "[[ 1  2  3]\n",
      " [ 4  5  6]\n",
      " [12  3  4]]\n"
     ]
    }
   ],
   "source": [
    "print(\"Hello\")\n",
    "\n",
    "import numpy as n\n",
    "print(n.array([1,2,3,4,5,6,12,3,4]).reshape((3,3)))"
   ]
  },
  {
   "cell_type": "code",
   "execution_count": 11,
   "id": "bf7aafb7",
   "metadata": {
    "scrolled": true
   },
   "outputs": [
    {
     "name": "stdout",
     "output_type": "stream",
     "text": [
      "Enter github username: devgautam2000\n",
      "Hello devgautam2000\n",
      "\n",
      "66 repositories found.\n",
      "NOTE: The private repositories will not be fetched.\n",
      "\n"
     ]
    },
    {
     "name": "stderr",
     "output_type": "stream",
     "text": [
      "100%|███████████████████████████████████████████| 66/66 [00:13<00:00,  4.86it/s]"
     ]
    },
    {
     "name": "stdout",
     "output_type": "stream",
     "text": [
      "Done! checkout your devgautam2000-projects.json file at the root of this directory\n",
      "\n"
     ]
    },
    {
     "name": "stderr",
     "output_type": "stream",
     "text": [
      "\n"
     ]
    }
   ],
   "source": [
    "from gpfetcher import scraper\n",
    "\n",
    "user  = input(\"Enter github username: \")\n",
    "scraper.scrape(user)"
   ]
  },
  {
   "cell_type": "markdown",
   "id": "8a1876ad",
   "metadata": {},
   "source": [
    "## numpy functions"
   ]
  },
  {
   "cell_type": "code",
   "execution_count": 2,
   "id": "44f6ebcf",
   "metadata": {},
   "outputs": [
    {
     "name": "stdout",
     "output_type": "stream",
     "text": [
      "[1 2 3 4]\n"
     ]
    }
   ],
   "source": [
    "import numpy as np\n",
    "\n",
    "arr = np.array([1, 2, 3, 4])\n",
    "print(arr)\n"
   ]
  },
  {
   "cell_type": "code",
   "execution_count": 3,
   "id": "eb2fd7a5",
   "metadata": {},
   "outputs": [
    {
     "name": "stdout",
     "output_type": "stream",
     "text": [
      "[0 1 2 3 4 5 6 7 8 9]\n"
     ]
    }
   ],
   "source": [
    "arr = np.arange(10)\n",
    "print(arr)"
   ]
  },
  {
   "cell_type": "code",
   "execution_count": 8,
   "id": "93bd3944",
   "metadata": {},
   "outputs": [
    {
     "name": "stdout",
     "output_type": "stream",
     "text": [
      "[1.   1.75 2.5  3.25 4.  ]\n"
     ]
    }
   ],
   "source": [
    "arr = np.linspace(1, 4, 5)\n",
    "print(arr)"
   ]
  },
  {
   "cell_type": "code",
   "execution_count": 9,
   "id": "885eb8ec",
   "metadata": {},
   "outputs": [
    {
     "name": "stdout",
     "output_type": "stream",
     "text": [
      "[[0. 0. 0.]\n",
      " [0. 0. 0.]]\n"
     ]
    }
   ],
   "source": [
    "arr = np.zeros((2, 3))\n",
    "print(arr)"
   ]
  },
  {
   "cell_type": "code",
   "execution_count": 10,
   "id": "32143c34",
   "metadata": {},
   "outputs": [
    {
     "data": {
      "text/plain": [
       "(2, 3)"
      ]
     },
     "execution_count": 10,
     "metadata": {},
     "output_type": "execute_result"
    }
   ],
   "source": [
    "arr.shape"
   ]
  },
  {
   "cell_type": "markdown",
   "id": "0d7ddbfa",
   "metadata": {},
   "source": [
    "## pandas functions"
   ]
  },
  {
   "cell_type": "code",
   "execution_count": 12,
   "id": "bdb769e3",
   "metadata": {},
   "outputs": [
    {
     "name": "stdout",
     "output_type": "stream",
     "text": [
      "   numbers  squares\n",
      "0        2        4\n",
      "1        3        9\n",
      "2        4       16\n",
      "3        5       25\n",
      "4        6       36\n",
      "5        7       49\n",
      "6        8       64\n",
      "7        9       81\n",
      "8       10      100\n"
     ]
    }
   ],
   "source": [
    "import pandas as pd\n",
    "data = pd.read_csv(\"data.txt\")\n",
    "print(data)"
   ]
  },
  {
   "cell_type": "code",
   "execution_count": 14,
   "id": "9a16395c",
   "metadata": {},
   "outputs": [
    {
     "name": "stdout",
     "output_type": "stream",
     "text": [
      "         0       1    2\n",
      "0  Column1    Name  Age\n",
      "1  Column2  Gautam   22\n"
     ]
    }
   ],
   "source": [
    "frame = [ [\"Column1\",\"Name\",\"Age\"] , [\"Column2\",\"Gautam\",\"22\"] ]\n",
    "data = pd.DataFrame(frame)\n",
    "print(data)"
   ]
  },
  {
   "cell_type": "code",
   "execution_count": 18,
   "id": "011c088d",
   "metadata": {},
   "outputs": [
    {
     "data": {
      "text/html": [
       "<div>\n",
       "<style scoped>\n",
       "    .dataframe tbody tr th:only-of-type {\n",
       "        vertical-align: middle;\n",
       "    }\n",
       "\n",
       "    .dataframe tbody tr th {\n",
       "        vertical-align: top;\n",
       "    }\n",
       "\n",
       "    .dataframe thead th {\n",
       "        text-align: right;\n",
       "    }\n",
       "</style>\n",
       "<table border=\"1\" class=\"dataframe\">\n",
       "  <thead>\n",
       "    <tr style=\"text-align: right;\">\n",
       "      <th></th>\n",
       "      <th>0</th>\n",
       "      <th>1</th>\n",
       "      <th>2</th>\n",
       "    </tr>\n",
       "  </thead>\n",
       "  <tbody>\n",
       "    <tr>\n",
       "      <th>0</th>\n",
       "      <td>Column1</td>\n",
       "      <td>Name</td>\n",
       "      <td>Age</td>\n",
       "    </tr>\n",
       "  </tbody>\n",
       "</table>\n",
       "</div>"
      ],
      "text/plain": [
       "         0     1    2\n",
       "0  Column1  Name  Age"
      ]
     },
     "execution_count": 18,
     "metadata": {},
     "output_type": "execute_result"
    }
   ],
   "source": [
    "data.drop(1)"
   ]
  },
  {
   "cell_type": "code",
   "execution_count": 19,
   "id": "b6b21227",
   "metadata": {},
   "outputs": [
    {
     "data": {
      "text/html": [
       "<div>\n",
       "<style scoped>\n",
       "    .dataframe tbody tr th:only-of-type {\n",
       "        vertical-align: middle;\n",
       "    }\n",
       "\n",
       "    .dataframe tbody tr th {\n",
       "        vertical-align: top;\n",
       "    }\n",
       "\n",
       "    .dataframe thead th {\n",
       "        text-align: right;\n",
       "    }\n",
       "</style>\n",
       "<table border=\"1\" class=\"dataframe\">\n",
       "  <thead>\n",
       "    <tr style=\"text-align: right;\">\n",
       "      <th></th>\n",
       "      <th>0</th>\n",
       "      <th>1</th>\n",
       "    </tr>\n",
       "  </thead>\n",
       "  <tbody>\n",
       "    <tr>\n",
       "      <th>0</th>\n",
       "      <td>Column1</td>\n",
       "      <td>Name</td>\n",
       "    </tr>\n",
       "    <tr>\n",
       "      <th>1</th>\n",
       "      <td>Column2</td>\n",
       "      <td>Gautam</td>\n",
       "    </tr>\n",
       "  </tbody>\n",
       "</table>\n",
       "</div>"
      ],
      "text/plain": [
       "         0       1\n",
       "0  Column1    Name\n",
       "1  Column2  Gautam"
      ]
     },
     "execution_count": 19,
     "metadata": {},
     "output_type": "execute_result"
    }
   ],
   "source": [
    "data.drop(columns=[2])"
   ]
  },
  {
   "cell_type": "code",
   "execution_count": 24,
   "id": "2a0fc9c7",
   "metadata": {},
   "outputs": [
    {
     "name": "stdout",
     "output_type": "stream",
     "text": [
      "   col_A  col_B\n",
      "0      1      9\n",
      "1      5      7\n",
      "2      7      4\n",
      "3      8      3\n"
     ]
    }
   ],
   "source": [
    "df = pd.DataFrame({'col_A':[1,5,7,8],'col_B':[9,7,4,3]})\n",
    "df.to_csv('./data.csv', index = False, encoding='utf-8') \n",
    "print(df)"
   ]
  }
 ],
 "metadata": {
  "kernelspec": {
   "display_name": "Python 3 (ipykernel)",
   "language": "python",
   "name": "python3"
  },
  "language_info": {
   "codemirror_mode": {
    "name": "ipython",
    "version": 3
   },
   "file_extension": ".py",
   "mimetype": "text/x-python",
   "name": "python",
   "nbconvert_exporter": "python",
   "pygments_lexer": "ipython3",
   "version": "3.9.10"
  }
 },
 "nbformat": 4,
 "nbformat_minor": 5
}
