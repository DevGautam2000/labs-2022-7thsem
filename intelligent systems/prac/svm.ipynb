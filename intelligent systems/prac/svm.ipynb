{
 "cells": [
  {
   "cell_type": "code",
   "execution_count": 52,
   "metadata": {},
   "outputs": [],
   "source": [
    "from sklearn import svm,datasets as ds\n",
    "from sklearn.metrics import accuracy_score as acs, confusion_matrix as cf\n",
    "from sklearn.model_selection import train_test_split as tts\n",
    "import numpy as np\n",
    "import pandas as pd\n",
    "\n",
    "x_d,y_d = ds.load_diabetes(return_X_y=True)\n",
    "\n",
    "x = pd.DataFrame(x_d).iloc[:,1:].values\n",
    "y = pd.DataFrame(y_d).iloc[:,0].values\n"
   ]
  },
  {
   "cell_type": "code",
   "execution_count": 53,
   "metadata": {},
   "outputs": [],
   "source": [
    "x_tr,xt,y_tr,yt = tts(x,y,test_size=0.3,random_state=1)"
   ]
  },
  {
   "cell_type": "code",
   "execution_count": 59,
   "metadata": {},
   "outputs": [
    {
     "data": {
      "text/plain": [
       "array([128.,  72., 128.,  72., 275., 275., 275.,  53.,  53.,  72., 128.,\n",
       "        91.,  53.,  72., 275., 275.,  85.,  72.,  91., 275., 275.,  72.,\n",
       "        72.,  72.,  72., 275.,  72., 200.,  91., 275.,  85., 128.,  91.,\n",
       "        72.,  72.,  91.,  72., 275., 128.,  91.,  85.,  85.,  53.,  53.,\n",
       "        72., 248., 128., 200., 275., 248.,  72., 128.,  85.,  72., 275.,\n",
       "        53.,  85.,  53.,  72.,  72.,  53., 275.,  91.,  72., 248.,  72.,\n",
       "        72., 131.,  91.,  72., 128.,  72.,  72.,  53.,  91.,  87.,  53.,\n",
       "        72., 275., 200.,  53.,  53., 200., 142.,  72.,  53.,  72.,  72.,\n",
       "       275.,  84.,  91., 128.,  72.,  53.,  72., 200., 200.,  53.,  85.,\n",
       "       128.,  72.,  72.,  72., 202., 275.,  91., 248., 275.,  72.,  72.,\n",
       "       200., 248., 248.,  72., 275., 200.,  72.,  72.,  85.,  91.,  72.,\n",
       "       310., 275.,  53.,  53., 142.,  72.,  53., 113.,  53.,  53., 128.,\n",
       "        53.])"
      ]
     },
     "execution_count": 59,
     "metadata": {},
     "output_type": "execute_result"
    }
   ],
   "source": [
    "typesOfKernel = [ 'linear', 'poly', 'rbf' ]\n",
    "\n",
    "model = svm.SVC(kernel='rbf')\n",
    "\n",
    "model.fit(x_tr,y_tr)\n",
    "pred = model.predict(xt)\n",
    "\n",
    "pred"
   ]
  },
  {
   "cell_type": "code",
   "execution_count": 60,
   "metadata": {},
   "outputs": [
    {
     "name": "stdout",
     "output_type": "stream",
     "text": [
      "Acuuracy score: 0.007518796992481203\n",
      "confusion matrix: \n",
      "[[0 0 0 ... 0 0 0]\n",
      " [0 0 0 ... 0 0 0]\n",
      " [0 0 0 ... 0 0 0]\n",
      " ...\n",
      " [0 0 0 ... 0 0 0]\n",
      " [0 0 0 ... 0 0 0]\n",
      " [0 0 0 ... 0 0 0]]\n"
     ]
    }
   ],
   "source": [
    "print(f\"Acuuracy score: {acs(yt,pred)}\")\n",
    "print(f\"confusion matrix: \\n{cf(yt,pred)}\")"
   ]
  }
 ],
 "metadata": {
  "kernelspec": {
   "display_name": "Python 3.9.10 64-bit",
   "language": "python",
   "name": "python3"
  },
  "language_info": {
   "codemirror_mode": {
    "name": "ipython",
    "version": 3
   },
   "file_extension": ".py",
   "mimetype": "text/x-python",
   "name": "python",
   "nbconvert_exporter": "python",
   "pygments_lexer": "ipython3",
   "version": "3.9.10"
  },
  "orig_nbformat": 4,
  "vscode": {
   "interpreter": {
    "hash": "b0fa6594d8f4cbf19f97940f81e996739fb7646882a419484c72d19e05852a7e"
   }
  }
 },
 "nbformat": 4,
 "nbformat_minor": 2
}
