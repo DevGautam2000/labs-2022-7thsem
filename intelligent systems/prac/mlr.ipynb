{
 "cells": [
  {
   "cell_type": "code",
   "execution_count": 1,
   "metadata": {},
   "outputs": [],
   "source": [
    "from sklearn import linear_model as lm,datasets as ds\n",
    "from sklearn.metrics import r2_score as rs, mean_squared_error as mse\n",
    "from sklearn.model_selection import train_test_split as tts\n",
    "import numpy as np\n",
    "import pandas as pd\n",
    "\n",
    "x_d,y_d = ds.load_diabetes(return_X_y=True)\n",
    "\n",
    "x = pd.DataFrame(x_d).iloc[:,1:].values\n",
    "y = pd.DataFrame(y_d).values\n",
    "\n",
    "# print(x)\n",
    "# print(y)"
   ]
  },
  {
   "cell_type": "code",
   "execution_count": 2,
   "metadata": {},
   "outputs": [],
   "source": [
    "x_tr,xt,y_tr,yt = tts(x,y,test_size=0.3)"
   ]
  },
  {
   "cell_type": "code",
   "execution_count": 3,
   "metadata": {},
   "outputs": [],
   "source": [
    "model = lm.LinearRegression()"
   ]
  },
  {
   "cell_type": "code",
   "execution_count": 4,
   "metadata": {},
   "outputs": [
    {
     "data": {
      "text/plain": [
       "LinearRegression()"
      ]
     },
     "execution_count": 4,
     "metadata": {},
     "output_type": "execute_result"
    }
   ],
   "source": [
    "# fit the model\n",
    "model.fit(x_tr,y_tr)"
   ]
  },
  {
   "cell_type": "code",
   "execution_count": 5,
   "metadata": {},
   "outputs": [],
   "source": [
    "# predicted vals\n",
    "pred = model.predict(xt)"
   ]
  },
  {
   "cell_type": "code",
   "execution_count": 6,
   "metadata": {},
   "outputs": [
    {
     "name": "stdout",
     "output_type": "stream",
     "text": [
      "r2_score: 0.4029437099831783\n",
      "Mean Square Error: 3434.3984041714643\n",
      "Root Mean Square Error: 58.60374053054518\n"
     ]
    }
   ],
   "source": [
    "print(f\"r2_score: {rs(yt,pred)}\")\n",
    "print(f\"Mean Square Error: {mse(yt,pred)}\")\n",
    "print(f\"Root Mean Square Error: {np.sqrt(mse(yt,pred))}\")"
   ]
  },
  {
   "cell_type": "markdown",
   "metadata": {},
   "source": []
  }
 ],
 "metadata": {
  "kernelspec": {
   "display_name": "Python 3.9.10 64-bit",
   "language": "python",
   "name": "python3"
  },
  "language_info": {
   "codemirror_mode": {
    "name": "ipython",
    "version": 3
   },
   "file_extension": ".py",
   "mimetype": "text/x-python",
   "name": "python",
   "nbconvert_exporter": "python",
   "pygments_lexer": "ipython3",
   "version": "3.9.10"
  },
  "orig_nbformat": 4,
  "vscode": {
   "interpreter": {
    "hash": "b0fa6594d8f4cbf19f97940f81e996739fb7646882a419484c72d19e05852a7e"
   }
  }
 },
 "nbformat": 4,
 "nbformat_minor": 2
}
