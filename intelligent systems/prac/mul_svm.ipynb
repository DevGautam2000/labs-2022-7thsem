{
 "cells": [
  {
   "cell_type": "code",
   "execution_count": 38,
   "metadata": {},
   "outputs": [],
   "source": [
    "from sklearn import svm,preprocessing\n",
    "from sklearn.metrics import accuracy_score as acs, confusion_matrix as cf\n",
    "from sklearn.model_selection import train_test_split as tts\n",
    "import pandas as pd\n",
    "\n",
    "df = pd.read_csv('../penguins.csv')\n",
    "df=df[df.notnull().all(1)]\n",
    "df= df.apply(preprocessing.LabelEncoder().fit_transform)\n",
    "\n",
    "# print(df.head())\n",
    "\n",
    "x = df.iloc[:,1:]\n",
    "y = df.iloc[:,1]\n",
    "\n",
    "\n",
    "x_tr,xt,y_tr,yt = tts(x,y,test_size=0.3,random_state=1)"
   ]
  },
  {
   "cell_type": "code",
   "execution_count": 39,
   "metadata": {},
   "outputs": [
    {
     "name": "stdout",
     "output_type": "stream",
     "text": [
      "linear: \n",
      "Acuuracy score: 0.97\n",
      "confusion matrix: \n",
      "[[42  1  0]\n",
      " [ 2 18  0]\n",
      " [ 0  0 37]]\n",
      "\n",
      "poly: \n",
      "Acuuracy score: 0.96\n",
      "confusion matrix: \n",
      "[[42  1  0]\n",
      " [ 3 17  0]\n",
      " [ 0  0 37]]\n",
      "\n",
      "rbf: \n",
      "Acuuracy score: 0.96\n",
      "confusion matrix: \n",
      "[[42  1  0]\n",
      " [ 3 17  0]\n",
      " [ 0  0 37]]\n",
      "\n"
     ]
    }
   ],
   "source": [
    "for ker in ['linear','poly','rbf']:\n",
    "    model = svm.SVC(kernel=ker)\n",
    "\n",
    "    model.fit(x_tr,y_tr)\n",
    "    pred = model.predict(xt)\n",
    "\n",
    "    print(f\"{ker}: \")\n",
    "    print(f\"Acuuracy score: {acs(yt,pred)}\")\n",
    "    print(f\"confusion matrix: \\n{cf(yt,pred)}\\n\")\n",
    "\n"
   ]
  }
 ],
 "metadata": {
  "kernelspec": {
   "display_name": "Python 3.9.10 64-bit",
   "language": "python",
   "name": "python3"
  },
  "language_info": {
   "codemirror_mode": {
    "name": "ipython",
    "version": 3
   },
   "file_extension": ".py",
   "mimetype": "text/x-python",
   "name": "python",
   "nbconvert_exporter": "python",
   "pygments_lexer": "ipython3",
   "version": "3.9.10"
  },
  "orig_nbformat": 4,
  "vscode": {
   "interpreter": {
    "hash": "b0fa6594d8f4cbf19f97940f81e996739fb7646882a419484c72d19e05852a7e"
   }
  }
 },
 "nbformat": 4,
 "nbformat_minor": 2
}
